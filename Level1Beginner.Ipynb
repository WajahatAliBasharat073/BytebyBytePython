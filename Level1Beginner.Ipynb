{
 "cells": [
  {
   "cell_type": "markdown",
   "metadata": {},
   "source": [
    "## Level 1(Beginner Level)"
   ]
  },
  {
   "cell_type": "markdown",
   "metadata": {},
   "source": [
    "### Write python program to print 'Hello world'"
   ]
  },
  {
   "cell_type": "code",
   "execution_count": 11,
   "metadata": {},
   "outputs": [
    {
     "name": "stdout",
     "output_type": "stream",
     "text": [
      "Hello, World\n",
      "Hello, World\n"
     ]
    }
   ],
   "source": [
    "print(\"Hello, World\")\n",
    "print('Hello, World')"
   ]
  },
  {
   "cell_type": "markdown",
   "metadata": {},
   "source": [
    "### Python Program to Add Two Numbers"
   ]
  },
  {
   "cell_type": "code",
   "execution_count": 12,
   "metadata": {},
   "outputs": [
    {
     "name": "stdout",
     "output_type": "stream",
     "text": [
      "150\n",
      "The sum of 50 and 100 is:  150\n",
      "The sum of 50 and 100 is:  150\n"
     ]
    }
   ],
   "source": [
    "# Solution1 (with predefined variables)\n",
    "Num1=50\n",
    "Num2=100\n",
    "sum=Num1+Num2\n",
    "print(Num1+Num2)\n",
    "print(f\"The sum of {Num1} and {Num2} is: \",Num1+Num2)\n",
    "print(f\"The sum of {Num1} and {Num2} is: \", sum)\n"
   ]
  },
  {
   "cell_type": "code",
   "execution_count": 13,
   "metadata": {},
   "outputs": [
    {
     "name": "stdout",
     "output_type": "stream",
     "text": [
      "9\n",
      "The sum of 4 and 5 is:  9\n",
      "The sum of 4 and 5 is:  9\n"
     ]
    }
   ],
   "source": [
    "# Solution2 (with user input)\n",
    "Num1 = int(input(\"please Enter first Number here: \"))\n",
    "Num2 = int(input(\"please Enter second Number here: \"))\n",
    "sum=Num1+Num2\n",
    "print(Num1+Num2)\n",
    "print(f\"The sum of {Num1} and {Num2} is: \", Num1+Num2)\n",
    "print(f\"The sum of {Num1} and {Num2} is: \", sum)"
   ]
  },
  {
   "cell_type": "markdown",
   "metadata": {},
   "source": [
    "### python program to find SQRT of Number"
   ]
  },
  {
   "cell_type": "code",
   "execution_count": 14,
   "metadata": {},
   "outputs": [
    {
     "name": "stdout",
     "output_type": "stream",
     "text": [
      "The square root of 6.0 is:  2.449489742783178\n"
     ]
    }
   ],
   "source": [
    "# using exponentiation\n",
    "num=float(input(\"please enter a number here: \"))\n",
    "sr=num**0.5\n",
    "print(f\"The square root of {num} is: \",\n",
    "      sr)"
   ]
  },
  {
   "cell_type": "code",
   "execution_count": null,
   "metadata": {},
   "outputs": [],
   "source": []
  },
  {
   "cell_type": "code",
   "execution_count": 15,
   "metadata": {},
   "outputs": [
    {
     "name": "stdout",
     "output_type": "stream",
     "text": [
      "The square root of 5.0 is:  2.23606797749979\n"
     ]
    }
   ],
   "source": [
    "#using math module\n",
    "import math\n",
    "num=float(input(\"please enter a number here: \"))\n",
    "sr=math.sqrt(num)\n",
    "print(f\"The square root of {num} is: \",\n",
    "      sr)"
   ]
  },
  {
   "cell_type": "code",
   "execution_count": null,
   "metadata": {},
   "outputs": [],
   "source": []
  },
  {
   "cell_type": "markdown",
   "metadata": {},
   "source": [
    "### Python program to calculate area of the triangle\n"
   ]
  },
  {
   "cell_type": "code",
   "execution_count": 16,
   "metadata": {},
   "outputs": [
    {
     "name": "stdout",
     "output_type": "stream",
     "text": [
      "the area of triangle is 6.0\n"
     ]
    }
   ],
   "source": [
    "base=float(input(\"Please enter a base of triangle: \"))\n",
    "height=float(input(\"Please enter a height of a triangle: \"))\n",
    "area=0.5*base*height\n",
    "print(\"the area of triangle is\", area)"
   ]
  },
  {
   "cell_type": "markdown",
   "metadata": {},
   "source": [
    "### Python program to swap two numbers"
   ]
  },
  {
   "cell_type": "code",
   "execution_count": 17,
   "metadata": {},
   "outputs": [
    {
     "name": "stdout",
     "output_type": "stream",
     "text": [
      "The value of 4 and 5 after swapping is  5 4\n"
     ]
    }
   ],
   "source": [
    "#using third variable\n",
    "X=int(input(\"Please enter x here: \"))\n",
    "Y=int(input(\"Please enter y here: \"))\n",
    "temp=X\n",
    "x=Y\n",
    "y=X\n",
    "print(f\"The value of {X} and {Y} after swapping is \",x,y)"
   ]
  },
  {
   "cell_type": "code",
   "execution_count": 18,
   "metadata": {},
   "outputs": [
    {
     "name": "stdout",
     "output_type": "stream",
     "text": [
      "The value of 54 and 3 after swapping is  3 54\n"
     ]
    }
   ],
   "source": [
    "# without using third variable\n",
    "X = int(input(\"Please enter x here: \"))\n",
    "Y = int(input(\"Please enter y here: \"))\n",
    "x,y=Y,X\n",
    "print(f\"The value of {X} and {Y} after swapping is \",x,y)"
   ]
  },
  {
   "cell_type": "markdown",
   "metadata": {},
   "source": [
    "### python program to check number is even or odd"
   ]
  },
  {
   "cell_type": "code",
   "execution_count": 19,
   "metadata": {},
   "outputs": [
    {
     "name": "stdout",
     "output_type": "stream",
     "text": [
      "the number is odd\n"
     ]
    }
   ],
   "source": [
    "num=int(input(\"please enter a number here \"))\n",
    "if num%2==0: \n",
    "    print(\"the number is even\")\n",
    "else:\n",
    "    print(\"the number is odd\")"
   ]
  },
  {
   "cell_type": "markdown",
   "metadata": {},
   "source": [
    "### Python program to check number is Positive, Negative or Zero."
   ]
  },
  {
   "cell_type": "code",
   "execution_count": 20,
   "metadata": {},
   "outputs": [
    {
     "name": "stdout",
     "output_type": "stream",
     "text": [
      "positive\n"
     ]
    }
   ],
   "source": [
    "num = int(input(\"please enter a number here \"))\n",
    "if num > 0:\n",
    "    print(\"positive\")\n",
    "elif num<0:\n",
    "    print(\"negative\")\n",
    "else:\n",
    "    print(\"zero\")"
   ]
  },
  {
   "cell_type": "markdown",
   "metadata": {},
   "source": [
    "### Python program to Find the Largest Among Three Numbers"
   ]
  },
  {
   "cell_type": "code",
   "execution_count": 21,
   "metadata": {},
   "outputs": [
    {
     "name": "stdout",
     "output_type": "stream",
     "text": [
      "num3 is the largest number\n"
     ]
    }
   ],
   "source": [
    "num1 = int(input(\"please enter a 1st number here\")) #2\n",
    "num2 = int(input(\"please enter a 2nd number here\")) #1\n",
    "num3 = int(input(\"please enter a 3rd number here\")) #3\n",
    "if num1>num2 and num1>num3:\n",
    "    print(\"num1 is the largest number\")\n",
    "elif num2>num1 and num2>num3:\n",
    "    print(\"num2 is the largest number\")\n",
    "else:\n",
    "    print(\"num3 is the largest number\")"
   ]
  },
  {
   "cell_type": "markdown",
   "metadata": {},
   "source": [
    "### Python program to check given number is a Prime Number or Not"
   ]
  },
  {
   "cell_type": "code",
   "execution_count": 23,
   "metadata": {},
   "outputs": [
    {
     "name": "stdout",
     "output_type": "stream",
     "text": [
      "11 is a prime number \n"
     ]
    }
   ],
   "source": [
    "num=int(input(\"Please enter a number \")) #11\n",
    "if num==1:\n",
    "    print(num, \"is not a prime number \")\n",
    "else:\n",
    "    if num>1:\n",
    "        for i in range(2,num):\n",
    "            if (num%i)==0:\n",
    "                print(num, \"is not a prime number \")\n",
    "                break\n",
    "        else:\n",
    "            print(num, \"is a prime number \")"
   ]
  },
  {
   "cell_type": "markdown",
   "metadata": {},
   "source": [
    "### Python program to find average of N numbers"
   ]
  },
  {
   "cell_type": "code",
   "execution_count": 24,
   "metadata": {},
   "outputs": [
    {
     "name": "stdout",
     "output_type": "stream",
     "text": [
      "The average of these numbers is :  10.0\n"
     ]
    }
   ],
   "source": [
    "num=int(input(\"Please enter a number here : \")) #3\n",
    "sum=0\n",
    "for i in range(num):\n",
    "    numbers=float(input(\"Enter a number: \")) #5 , 10, 15\n",
    "    sum+=numbers #5 ,15, 30\n",
    "avg=sum/num\n",
    "print(\"The average of these numbers is : \", avg)"
   ]
  },
  {
   "cell_type": "code",
   "execution_count": null,
   "metadata": {},
   "outputs": [],
   "source": []
  }
 ],
 "metadata": {
  "kernelspec": {
   "display_name": "bbbpython",
   "language": "python",
   "name": "python3"
  },
  "language_info": {
   "codemirror_mode": {
    "name": "ipython",
    "version": 3
   },
   "file_extension": ".py",
   "mimetype": "text/x-python",
   "name": "python",
   "nbconvert_exporter": "python",
   "pygments_lexer": "ipython3",
   "version": "3.10.0"
  }
 },
 "nbformat": 4,
 "nbformat_minor": 2
}
